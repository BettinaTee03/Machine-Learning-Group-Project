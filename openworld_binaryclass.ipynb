{
 "cells": [
  {
   "cell_type": "markdown",
   "metadata": {},
   "source": [
    "In this notebook, we will be building our model for the open-world experiments to binary classify by determining whether the web traffic trace corresponds to a monitored website or unmonitored website.   "
   ]
  },
  {
   "cell_type": "markdown",
   "metadata": {},
   "source": [
    "# Extracting Data"
   ]
  },
  {
   "cell_type": "markdown",
   "metadata": {},
   "source": [
    "To begin, we will first import the dataframes into this notebook"
   ]
  },
  {
   "cell_type": "code",
   "execution_count": 1,
   "metadata": {},
   "outputs": [],
   "source": [
    "import pickle"
   ]
  },
  {
   "cell_type": "code",
   "execution_count": 2,
   "metadata": {},
   "outputs": [],
   "source": [
    "with open('datasets/extracted_features.pkl', 'rb') as f:\n",
    "    df = pickle.load(f)"
   ]
  },
  {
   "cell_type": "markdown",
   "metadata": {},
   "source": [
    "For this experiment, we consider the monitored websites as positive samples and the unmonitored websites as negative samples, so we will assign the label 1 to all monitored websites and 0 to the unmonitored ones."
   ]
  },
  {
   "cell_type": "code",
   "execution_count": 3,
   "metadata": {},
   "outputs": [
    {
     "data": {
      "text/html": [
       "<div>\n",
       "<style scoped>\n",
       "    .dataframe tbody tr th:only-of-type {\n",
       "        vertical-align: middle;\n",
       "    }\n",
       "\n",
       "    .dataframe tbody tr th {\n",
       "        vertical-align: top;\n",
       "    }\n",
       "\n",
       "    .dataframe thead th {\n",
       "        text-align: right;\n",
       "    }\n",
       "</style>\n",
       "<table border=\"1\" class=\"dataframe\">\n",
       "  <thead>\n",
       "    <tr style=\"text-align: right;\">\n",
       "      <th></th>\n",
       "      <th>label</th>\n",
       "      <th>incoming_packet_counts</th>\n",
       "      <th>outgoing_packet_counts</th>\n",
       "      <th>total_packet_counts</th>\n",
       "      <th>incoming_packet_fraction</th>\n",
       "      <th>outgoing_packet_fraction</th>\n",
       "      <th>std_outgoing_order</th>\n",
       "      <th>avg_outgoing_order</th>\n",
       "      <th>sum_concentration</th>\n",
       "      <th>avg_concentration</th>\n",
       "    </tr>\n",
       "  </thead>\n",
       "  <tbody>\n",
       "    <tr>\n",
       "      <th>0</th>\n",
       "      <td>1</td>\n",
       "      <td>1300</td>\n",
       "      <td>121</td>\n",
       "      <td>1421</td>\n",
       "      <td>0.914849</td>\n",
       "      <td>0.085151</td>\n",
       "      <td>515.483953</td>\n",
       "      <td>773.322314</td>\n",
       "      <td>10.14</td>\n",
       "      <td>0.007136</td>\n",
       "    </tr>\n",
       "    <tr>\n",
       "      <th>1</th>\n",
       "      <td>1</td>\n",
       "      <td>438</td>\n",
       "      <td>80</td>\n",
       "      <td>518</td>\n",
       "      <td>0.845560</td>\n",
       "      <td>0.154440</td>\n",
       "      <td>139.231951</td>\n",
       "      <td>226.162500</td>\n",
       "      <td>10.16</td>\n",
       "      <td>0.019614</td>\n",
       "    </tr>\n",
       "    <tr>\n",
       "      <th>2</th>\n",
       "      <td>1</td>\n",
       "      <td>1240</td>\n",
       "      <td>118</td>\n",
       "      <td>1358</td>\n",
       "      <td>0.913108</td>\n",
       "      <td>0.086892</td>\n",
       "      <td>472.735508</td>\n",
       "      <td>786.110169</td>\n",
       "      <td>11.11</td>\n",
       "      <td>0.008181</td>\n",
       "    </tr>\n",
       "    <tr>\n",
       "      <th>3</th>\n",
       "      <td>1</td>\n",
       "      <td>1324</td>\n",
       "      <td>122</td>\n",
       "      <td>1446</td>\n",
       "      <td>0.915629</td>\n",
       "      <td>0.084371</td>\n",
       "      <td>513.916038</td>\n",
       "      <td>820.139344</td>\n",
       "      <td>13.36</td>\n",
       "      <td>0.009239</td>\n",
       "    </tr>\n",
       "    <tr>\n",
       "      <th>4</th>\n",
       "      <td>1</td>\n",
       "      <td>1291</td>\n",
       "      <td>115</td>\n",
       "      <td>1406</td>\n",
       "      <td>0.918208</td>\n",
       "      <td>0.081792</td>\n",
       "      <td>503.993490</td>\n",
       "      <td>789.608696</td>\n",
       "      <td>10.64</td>\n",
       "      <td>0.007568</td>\n",
       "    </tr>\n",
       "    <tr>\n",
       "      <th>...</th>\n",
       "      <td>...</td>\n",
       "      <td>...</td>\n",
       "      <td>...</td>\n",
       "      <td>...</td>\n",
       "      <td>...</td>\n",
       "      <td>...</td>\n",
       "      <td>...</td>\n",
       "      <td>...</td>\n",
       "      <td>...</td>\n",
       "      <td>...</td>\n",
       "    </tr>\n",
       "    <tr>\n",
       "      <th>28995</th>\n",
       "      <td>0</td>\n",
       "      <td>4180</td>\n",
       "      <td>413</td>\n",
       "      <td>4593</td>\n",
       "      <td>0.910081</td>\n",
       "      <td>0.089919</td>\n",
       "      <td>1173.380403</td>\n",
       "      <td>2549.414044</td>\n",
       "      <td>32.09</td>\n",
       "      <td>0.006987</td>\n",
       "    </tr>\n",
       "    <tr>\n",
       "      <th>28996</th>\n",
       "      <td>0</td>\n",
       "      <td>4663</td>\n",
       "      <td>447</td>\n",
       "      <td>5110</td>\n",
       "      <td>0.912524</td>\n",
       "      <td>0.087476</td>\n",
       "      <td>1621.869237</td>\n",
       "      <td>3062.015660</td>\n",
       "      <td>38.62</td>\n",
       "      <td>0.007558</td>\n",
       "    </tr>\n",
       "    <tr>\n",
       "      <th>28997</th>\n",
       "      <td>0</td>\n",
       "      <td>302</td>\n",
       "      <td>59</td>\n",
       "      <td>361</td>\n",
       "      <td>0.836565</td>\n",
       "      <td>0.163435</td>\n",
       "      <td>118.245320</td>\n",
       "      <td>179.101695</td>\n",
       "      <td>34.93</td>\n",
       "      <td>0.096759</td>\n",
       "    </tr>\n",
       "    <tr>\n",
       "      <th>28998</th>\n",
       "      <td>0</td>\n",
       "      <td>413</td>\n",
       "      <td>96</td>\n",
       "      <td>509</td>\n",
       "      <td>0.811395</td>\n",
       "      <td>0.188605</td>\n",
       "      <td>166.667122</td>\n",
       "      <td>309.197917</td>\n",
       "      <td>11.84</td>\n",
       "      <td>0.023261</td>\n",
       "    </tr>\n",
       "    <tr>\n",
       "      <th>28999</th>\n",
       "      <td>0</td>\n",
       "      <td>9668</td>\n",
       "      <td>322</td>\n",
       "      <td>9990</td>\n",
       "      <td>0.967768</td>\n",
       "      <td>0.032232</td>\n",
       "      <td>3076.060409</td>\n",
       "      <td>4627.602484</td>\n",
       "      <td>9.62</td>\n",
       "      <td>0.000963</td>\n",
       "    </tr>\n",
       "  </tbody>\n",
       "</table>\n",
       "<p>29000 rows × 10 columns</p>\n",
       "</div>"
      ],
      "text/plain": [
       "       label  incoming_packet_counts  outgoing_packet_counts  \\\n",
       "0          1                    1300                     121   \n",
       "1          1                     438                      80   \n",
       "2          1                    1240                     118   \n",
       "3          1                    1324                     122   \n",
       "4          1                    1291                     115   \n",
       "...      ...                     ...                     ...   \n",
       "28995      0                    4180                     413   \n",
       "28996      0                    4663                     447   \n",
       "28997      0                     302                      59   \n",
       "28998      0                     413                      96   \n",
       "28999      0                    9668                     322   \n",
       "\n",
       "       total_packet_counts  incoming_packet_fraction  \\\n",
       "0                     1421                  0.914849   \n",
       "1                      518                  0.845560   \n",
       "2                     1358                  0.913108   \n",
       "3                     1446                  0.915629   \n",
       "4                     1406                  0.918208   \n",
       "...                    ...                       ...   \n",
       "28995                 4593                  0.910081   \n",
       "28996                 5110                  0.912524   \n",
       "28997                  361                  0.836565   \n",
       "28998                  509                  0.811395   \n",
       "28999                 9990                  0.967768   \n",
       "\n",
       "       outgoing_packet_fraction  std_outgoing_order  avg_outgoing_order  \\\n",
       "0                      0.085151          515.483953          773.322314   \n",
       "1                      0.154440          139.231951          226.162500   \n",
       "2                      0.086892          472.735508          786.110169   \n",
       "3                      0.084371          513.916038          820.139344   \n",
       "4                      0.081792          503.993490          789.608696   \n",
       "...                         ...                 ...                 ...   \n",
       "28995                  0.089919         1173.380403         2549.414044   \n",
       "28996                  0.087476         1621.869237         3062.015660   \n",
       "28997                  0.163435          118.245320          179.101695   \n",
       "28998                  0.188605          166.667122          309.197917   \n",
       "28999                  0.032232         3076.060409         4627.602484   \n",
       "\n",
       "       sum_concentration  avg_concentration  \n",
       "0                  10.14           0.007136  \n",
       "1                  10.16           0.019614  \n",
       "2                  11.11           0.008181  \n",
       "3                  13.36           0.009239  \n",
       "4                  10.64           0.007568  \n",
       "...                  ...                ...  \n",
       "28995              32.09           0.006987  \n",
       "28996              38.62           0.007558  \n",
       "28997              34.93           0.096759  \n",
       "28998              11.84           0.023261  \n",
       "28999               9.62           0.000963  \n",
       "\n",
       "[29000 rows x 10 columns]"
      ]
     },
     "execution_count": 3,
     "metadata": {},
     "output_type": "execute_result"
    }
   ],
   "source": [
    "df.loc[df['label'] >= 0, 'label'] = 1\n",
    "df.loc[df['label'] <0, 'label'] = 0\n",
    "df"
   ]
  },
  {
   "cell_type": "markdown",
   "metadata": {},
   "source": [
    "Then we will split the different features and labels of the data into training and testing sets"
   ]
  },
  {
   "cell_type": "code",
   "execution_count": 4,
   "metadata": {},
   "outputs": [],
   "source": [
    "import sklearn\n",
    "from sklearn.model_selection import train_test_split\n",
    "\n",
    "# Separating Labels and Features\n",
    "X = df.drop(columns=['label'])\n",
    "y = df['label']\n",
    "\n",
    "# Splitting into testing and training data sets\n",
    "X_train, X_test, y_train, y_test = train_test_split(X, y, test_size=0.2, random_state=1,stratify=y)"
   ]
  },
  {
   "cell_type": "markdown",
   "metadata": {},
   "source": [
    "# Feature Importance\n",
    "We can build a first Random Forest model to study the feature importance using the sklearn library."
   ]
  },
  {
   "cell_type": "code",
   "execution_count": 5,
   "metadata": {},
   "outputs": [],
   "source": [
    "from sklearn.ensemble import RandomForestClassifier\n",
    "import matplotlib.pyplot as plt\n",
    "import pandas as pd\n",
    "\n",
    "# Creating a model\n",
    "model_1= RandomForestClassifier()\n",
    "model_1.fit(X_train, y_train)\n",
    "\n",
    "# Computing a feature ranking\n",
    "feature_imp = pd.Series(model_1.feature_importances_, index=X.columns).sort_values(ascending=False)"
   ]
  },
  {
   "cell_type": "code",
   "execution_count": 6,
   "metadata": {},
   "outputs": [
    {
     "data": {
      "image/png": "[encoded data removed]",
      "text/plain": [
       "<Figure size 1000x600 with 1 Axes>"
      ]
     },
     "metadata": {},
     "output_type": "display_data"
    }
   ],
   "source": [
    "plt.figure(figsize=(10, 6))\n",
    "plt.barh(feature_imp.index, feature_imp.values)\n",
    "plt.xlabel('Feature Importance Score')\n",
    "plt.ylabel('Features')\n",
    "plt.title('Visulalisation of feature importance')\n",
    "plt.show()"
   ]
  },
  {
   "cell_type": "markdown",
   "metadata": {},
   "source": [
    "We can see that there are three 'top features' that seem to be relatively more significant than the other ones. Two of these however are from the same group (avg outoing order and std outgoing order)"
   ]
  },
  {
   "cell_type": "markdown",
   "metadata": {},
   "source": [
    "# Model Creation\n",
    "We can test this first model made from five features to see how it performs. The default configuration is to use gini impurity decrease to build 100 classifiers, with each having a maximum of features equal to the square root number of the total features which here is 2.  \n",
    "As we are studying a binary classification, it is interesting to study the confusion matrix. We can think of a use case where monitored websites represent a specific kind of service for which we want to measure the frequence of access."
   ]
  },
  {
   "cell_type": "code",
   "execution_count": 8,
   "metadata": {},
   "outputs": [
    {
     "name": "stdout",
     "output_type": "stream",
     "text": [
      "Accuracy scores for the different folds: [0.50913793 0.56517241 0.51155172 0.59310345 0.58413793]\n",
      "Mean accuracy: 0.55\n",
      "Recall scores for the different folds: [0.54356579 0.57638158 0.54434211 0.59686842 0.59286842]\n",
      "Mean recall: 0.57\n",
      "[[1204  796]\n",
      " [ 419 3381]]\n"
     ]
    }
   ],
   "source": [
    "# Testing the First model using cross-validation\n",
    "from sklearn.metrics import confusion_matrix, ConfusionMatrixDisplay\n",
    "from sklearn.model_selection import cross_validate\n",
    "\n",
    "results = cross_validate(\n",
    "    model_1,\n",
    "    X,y,cv=5,scoring=['accuracy', 'recall_macro'],)\n",
    "\n",
    "print(f\"Accuracy scores for the different folds: {results['test_accuracy']}\")\n",
    "print(f\"Mean accuracy: {results['test_accuracy'].mean():.2f}\")\n",
    "\n",
    "print(f\"Recall scores for the different folds: {results['test_recall_macro']}\")\n",
    "print(f\"Mean recall: {results['test_recall_macro'].mean():.2f}\")\n",
    "\n",
    "# Displaying the confusion matrix for the split of the first model\n",
    "y_pred_1 = model_1.predict(X_test)\n",
    "\n",
    "print(confusion_matrix(y_test, y_pred_1))"
   ]
  },
  {
   "cell_type": "markdown",
   "metadata": {},
   "source": [
    "These first results are not so good."
   ]
  },
  {
   "cell_type": "markdown",
   "metadata": {},
   "source": [
    "# Model Tuning\n",
    "We can use a grid search to see if the model reaches a better performance. Since this model uses binary classfication on a relatively small number of features, we will only look for the best number of estimators and the best criterion for feature importance."
   ]
  },
  {
   "cell_type": "code",
   "execution_count": 10,
   "metadata": {},
   "outputs": [
    {
     "name": "stderr",
     "output_type": "stream",
     "text": [
      "c:\\Users\\maray\\miniconda3\\envs\\mlpro\\Lib\\site-packages\\numpy\\ma\\core.py:2881: RuntimeWarning: invalid value encountered in cast\n",
      "  _data = np.array(data, dtype=dtype, copy=copy,\n"
     ]
    },
    {
     "name": "stdout",
     "output_type": "stream",
     "text": [
      "Best parameters : {'criterion': 'gini', 'n_estimators': 200}\n"
     ]
    }
   ],
   "source": [
    "from sklearn.model_selection import GridSearchCV\n",
    "\n",
    "# Searching for the best building configuration\n",
    "parameters = {'n_estimators': [20, 50, 100, 200], 'criterion' :['gini', 'entropy']}\n",
    "model_2 = GridSearchCV(RandomForestClassifier(), parameters, refit = True)\n",
    "model_2.fit(X_train, y_train)\n",
    "\n",
    "print(\"Best parameters :\",model_2.best_params_)"
   ]
  },
  {
   "cell_type": "markdown",
   "metadata": {},
   "source": [
    "Now we can test the model that uses the theoretical best parameters"
   ]
  },
  {
   "cell_type": "code",
   "execution_count": 11,
   "metadata": {},
   "outputs": [
    {
     "name": "stdout",
     "output_type": "stream",
     "text": [
      "Accuracy scores for the different folds: [0.51086207 0.56482759 0.51224138 0.60258621 0.58293103]\n",
      "Mean accuracy: 0.55\n",
      "Recall scores for the different folds: [0.54263158 0.57517105 0.54368421 0.60528947 0.58815789]\n",
      "Mean recall: 0.57\n",
      "[[1196  804]\n",
      " [ 418 3382]]\n"
     ]
    }
   ],
   "source": [
    "\n",
    "results_2 = cross_validate(\n",
    "    model_2,\n",
    "    X,y,cv=5,scoring=['accuracy', 'recall_macro'],)\n",
    "\n",
    "print(f\"Accuracy scores for the different folds: {results_2['test_accuracy']}\")\n",
    "print(f\"Mean accuracy: {results_2['test_accuracy'].mean():.2f}\")\n",
    "\n",
    "print(f\"Recall scores for the different folds: {results_2['test_recall_macro']}\")\n",
    "print(f\"Mean recall: {results_2['test_recall_macro'].mean():.2f}\")\n",
    "\n",
    "# Displaying the confusion matrix for the split of the first model\n",
    "y_pred_2 = model_2.predict(X_test)\n",
    "\n",
    "print(confusion_matrix(y_test, y_pred_2))"
   ]
  },
  {
   "cell_type": "markdown",
   "metadata": {},
   "source": [
    "\n",
    "model1  \n",
    "Accuracy scores for the different folds: [0.50913793 0.56517241 0.51155172 0.59310345 0.58413793]  \n",
    "Mean accuracy: 0.55  \n",
    "Recall scores for the different folds: [0.54356579 0.57638158 0.54434211 0.59686842 0.59286842]  \n",
    "Mean recall: 0.57  \n",
    "[[1204  796]  \n",
    " [ 419 3381]]  \n",
    "\n",
    "model2    \n",
    "Accuracy scores for the different folds: [0.51086207 0.56482759 0.51224138 0.60258621 0.58293103]  \n",
    "Mean accuracy: 0.55  \n",
    "Recall scores for the different folds: [0.54263158 0.57517105 0.54368421 0.60528947 0.58815789]  \n",
    "Mean recall: 0.57  \n",
    "[[1196  804]  \n",
    " [ 418 3382]]  "
   ]
  }
 ],
 "metadata": {
  "kernelspec": {
   "display_name": "mlpro",
   "language": "python",
   "name": "python3"
  },
  "language_info": {
   "codemirror_mode": {
    "name": "ipython",
    "version": 3
   },
   "file_extension": ".py",
   "mimetype": "text/x-python",
   "name": "python",
   "nbconvert_exporter": "python",
   "pygments_lexer": "ipython3",
   "version": "3.13.0"
  }
 },
 "nbformat": 4,
 "nbformat_minor": 2
}
