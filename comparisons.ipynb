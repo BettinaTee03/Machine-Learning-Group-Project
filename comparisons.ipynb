{
 "cells": [
  {
   "cell_type": "code",
   "execution_count": null,
   "metadata": {},
   "outputs": [],
   "source": [
    "import pickle\n",
    "\n",
    "with open(\"datasets/ow_binary.pkl\", 'rb') as fi:\n",
    "    ow_binary = pickle.load(fi)\n",
    "\n",
    "with open(\"datasets/ow_multi.pkl\", 'rb') as fi:\n",
    "    ow_multi = pickle.load(fi)\n",
    "\n",
    "with open(\"datasets/cw_multi.pkl\", 'rb') as fi:\n",
    "    cw_multi = pickle.load(fi)\n",
    "\n",
    "reports = [ow_binary, ow_multi]\n",
    "titles = [\"Open World Binary Class\", \"Open World Multi Class\"]"
   ]
  },
  {
   "cell_type": "markdown",
   "metadata": {},
   "source": [
    "Heatmaps"
   ]
  },
  {
   "cell_type": "code",
   "execution_count": null,
   "metadata": {},
   "outputs": [],
   "source": [
    "import seaborn as sns\n",
    "import matplotlib.pyplot as plt\n",
    "import pandas as pd\n",
    "\n",
    "fig, axes = plt.subplots(1, len(reports), figsize=(6*len(reports), 6))\n",
    "if len(reports) == 1:\n",
    "    axes = [axes]\n",
    "\n",
    "for report, title, ax in zip(reports, titles, axes):\n",
    "    df = pd.DataFrame(report).T\n",
    "    df = df.drop('support', axis=1)  # Remove the 'support' column\n",
    "    df = df.drop('accuracy', axis=0, errors='ignore') # Remove the 'accuracy' row if it exists\n",
    "\n",
    "    sns.heatmap(df, annot=True, cmap=\"YlGnBu\", ax=ax, fmt='.2f')\n",
    "    ax.set_title(title)\n",
    "    ax.set_ylabel('Classes')\n",
    "    ax.set_xlabel('Metrics')\n",
    "\n",
    "plt.tight_layout()\n",
    "plt.show()"
   ]
  }
 ],
 "metadata": {
  "kernelspec": {
   "display_name": "mlpro",
   "language": "python",
   "name": "python3"
  },
  "language_info": {
   "codemirror_mode": {
    "name": "ipython",
    "version": 3
   },
   "file_extension": ".py",
   "mimetype": "text/x-python",
   "name": "python",
   "nbconvert_exporter": "python",
   "pygments_lexer": "ipython3",
   "version": "3.13.0"
  }
 },
 "nbformat": 4,
 "nbformat_minor": 2
}
